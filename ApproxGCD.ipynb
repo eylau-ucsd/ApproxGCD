{
 "cells": [
  {
   "cell_type": "code",
   "execution_count": 1,
   "id": "fe2ced3e",
   "metadata": {},
   "outputs": [],
   "source": [
    "def generate_problem(m, N_bits, p_bits, r_bits):\n",
    "    p = random_prime(2^N_bits - 1, false, 2^(N_bits-1))\n",
    "    q_bits = N_bits - p_bits\n",
    "    q = randint(2^(q_bits - 1), 2^q_bits - 1)\n",
    "    N = p * q # exact multiple of p\n",
    "    a_lst = [] # list of approximate multiples of p \n",
    "    for i in range(m):\n",
    "        q = randint(2^(q_bits - 1), 2^q_bits - 1)\n",
    "        r = randint(2^(r_bits - 1), 2^r_bits - 1)\n",
    "        a = p * q + r\n",
    "        a_lst.append(a)\n",
    "    return (N, a_lst)"
   ]
  },
  {
   "cell_type": "code",
   "execution_count": 2,
   "id": "ff755368",
   "metadata": {
    "scrolled": true
   },
   "outputs": [],
   "source": [
    "m = 1\n",
    "N_bits = 1000\n",
    "p_bits = 200\n",
    "r_bits = 36\n",
    "problem_instance = generate_problem(m, N_bits, p_bits, r_bits)\n",
    "(N, a_lst) = problem_instance"
   ]
  },
  {
   "cell_type": "code",
   "execution_count": 3,
   "id": "9189184d",
   "metadata": {},
   "outputs": [],
   "source": [
    "beta = 1\n",
    "# hardcode these constants for now, ask about them later\n",
    "t = 41\n",
    "k = 8\n",
    "X = 2^r_bits - 1 # the bound on the error"
   ]
  },
  {
   "cell_type": "code",
   "execution_count": 4,
   "id": "911276c3",
   "metadata": {},
   "outputs": [],
   "source": [
    "# iterate over i_1 + ... + i_m <= t\n",
    "# do the \"combo of dividing lines\" approach\n",
    "i_l_lst = []\n",
    "from itertools import combinations\n",
    "for combo in combinations(range(1, t + m + 1), m):\n",
    "    i_combo = []\n",
    "    all_dividing_lines = [0, *list(combo), t + m + 1]\n",
    "    for j in range(1, len(all_dividing_lines) - 1):\n",
    "        i_j = all_dividing_lines[j + 1] - all_dividing_lines[j] - 1\n",
    "        i_combo.append(i_j)\n",
    "    l = max(0, k - sum(i_combo))\n",
    "    i_l_lst.append((i_combo, l))"
   ]
  },
  {
   "cell_type": "code",
   "execution_count": 5,
   "id": "34147ae4",
   "metadata": {},
   "outputs": [
    {
     "data": {
      "text/plain": [
       "42"
      ]
     },
     "execution_count": 5,
     "metadata": {},
     "output_type": "execute_result"
    }
   ],
   "source": [
    "len(i_l_lst)"
   ]
  },
  {
   "cell_type": "code",
   "execution_count": 6,
   "id": "e8212fb0",
   "metadata": {},
   "outputs": [],
   "source": [
    "R = PolynomialRing(QQ, names=[\"x\" + str(i) for i in range(1, m + 1)], order=\"lex\")\n",
    "polys = []\n",
    "polys_lite = []\n",
    "for (i_combo, l) in i_l_lst:\n",
    "    poly = N^l\n",
    "    poly_lite = N^l\n",
    "    for (x_j, a, i) in zip(R.gens(), a_lst, i_combo):\n",
    "        poly *= (X * x_j - a)^i\n",
    "        poly_lite *= (x_j - a)^i\n",
    "    polys.append(poly)\n",
    "    polys_lite.append(poly_lite)"
   ]
  },
  {
   "cell_type": "code",
   "execution_count": 7,
   "id": "c0d2aec5",
   "metadata": {},
   "outputs": [],
   "source": [
    "def get_coeff_vector(poly, max_order_monomial):\n",
    "    # credit to https://stackoverflow.com/questions/42812634/multivariate-polynomial-coefficients-including-zeros\n",
    "    return [poly.monomial_coefficient(m) for m in monomial_all_divisors(max_order_monomial)] + [poly.constant_coefficient()]\n",
    "\n",
    "def get_poly(coeff_vector, max_order_monomial):\n",
    "    poly = 0\n",
    "    all_monomials = monomial_all_divisors(max_order_monomial) + [1]\n",
    "    for (m, coeff) in zip(coeff_vector, all_monomials):\n",
    "        poly += coeff * m\n",
    "    return poly"
   ]
  },
  {
   "cell_type": "code",
   "execution_count": 8,
   "id": "2a7277e6",
   "metadata": {},
   "outputs": [],
   "source": [
    "def monomial_all_divisors(monomial):\n",
    "    if len(R.gens()) > 1:\n",
    "        return R.monomial_all_divisors(monomial)\n",
    "    else:\n",
    "        max_i = list(monomial.dict().keys())[0]\n",
    "        return [R.gens()[0]^i for i in range(1, max_i + 1)]"
   ]
  },
  {
   "cell_type": "code",
   "execution_count": 9,
   "id": "6c973640",
   "metadata": {},
   "outputs": [
    {
     "data": {
      "text/plain": [
       "x1^41"
      ]
     },
     "execution_count": 9,
     "metadata": {},
     "output_type": "execute_result"
    }
   ],
   "source": [
    "max_order_monomial = 1\n",
    "for x_j in R.gens():\n",
    "    max_order_monomial *= x_j^t\n",
    "max_order_monomial"
   ]
  },
  {
   "cell_type": "code",
   "execution_count": 10,
   "id": "7c680326",
   "metadata": {},
   "outputs": [
    {
     "data": {
      "text/plain": [
       "[x1,\n",
       " x1^2,\n",
       " x1^3,\n",
       " x1^4,\n",
       " x1^5,\n",
       " x1^6,\n",
       " x1^7,\n",
       " x1^8,\n",
       " x1^9,\n",
       " x1^10,\n",
       " x1^11,\n",
       " x1^12,\n",
       " x1^13,\n",
       " x1^14,\n",
       " x1^15,\n",
       " x1^16,\n",
       " x1^17,\n",
       " x1^18,\n",
       " x1^19,\n",
       " x1^20,\n",
       " x1^21,\n",
       " x1^22,\n",
       " x1^23,\n",
       " x1^24,\n",
       " x1^25,\n",
       " x1^26,\n",
       " x1^27,\n",
       " x1^28,\n",
       " x1^29,\n",
       " x1^30,\n",
       " x1^31,\n",
       " x1^32,\n",
       " x1^33,\n",
       " x1^34,\n",
       " x1^35,\n",
       " x1^36,\n",
       " x1^37,\n",
       " x1^38,\n",
       " x1^39,\n",
       " x1^40,\n",
       " x1^41]"
      ]
     },
     "execution_count": 10,
     "metadata": {},
     "output_type": "execute_result"
    }
   ],
   "source": [
    "monomial_all_divisors(max_order_monomial)"
   ]
  },
  {
   "cell_type": "code",
   "execution_count": 11,
   "id": "342a57f2",
   "metadata": {},
   "outputs": [],
   "source": [
    "coeff_matrix = matrix(ZZ, [get_coeff_vector(poly, max_order_monomial) for poly in polys])\n",
    "coeff_matrix_lite = matrix(ZZ, [get_coeff_vector(poly, max_order_monomial) for poly in polys_lite])"
   ]
  },
  {
   "cell_type": "code",
   "execution_count": 12,
   "id": "684350b0",
   "metadata": {},
   "outputs": [
    {
     "data": {
      "text/plain": [
       "42"
      ]
     },
     "execution_count": 12,
     "metadata": {},
     "output_type": "execute_result"
    }
   ],
   "source": [
    "coeff_matrix_lite.nrows()"
   ]
  },
  {
   "cell_type": "code",
   "execution_count": 13,
   "id": "c3a55c15",
   "metadata": {},
   "outputs": [
    {
     "ename": "KeyboardInterrupt",
     "evalue": "",
     "output_type": "error",
     "traceback": [
      "\u001b[0;31m---------------------------------------------------------------------------\u001b[0m",
      "\u001b[0;31mKeyboardInterrupt\u001b[0m                         Traceback (most recent call last)",
      "Cell \u001b[0;32mIn [13], line 1\u001b[0m\n\u001b[0;32m----> 1\u001b[0m (reduced_matrix, transformation_matrix) \u001b[38;5;241m=\u001b[39m coeff_matrix\u001b[38;5;241m.\u001b[39mLLL(transformation\u001b[38;5;241m=\u001b[39m\u001b[38;5;28;01mTrue\u001b[39;00m)\n",
      "File \u001b[0;32m/usr/lib64/python3.11/site-packages/sage/matrix/matrix_integer_dense.pyx:3260\u001b[0m, in \u001b[0;36msage.matrix.matrix_integer_dense.Matrix_integer_dense.LLL\u001b[0;34m()\u001b[0m\n\u001b[1;32m   3258\u001b[0m     kwds[\"flags\"] = kwds.get(\"flags\", LLL.DEFAULT) | LLL.EARLY_RED\n\u001b[1;32m   3259\u001b[0m \n\u001b[0;32m-> 3260\u001b[0m LLL.reduction(A, delta=delta, eta=eta, method=method, float_type=fp, precision=prec, U=U)\n\u001b[1;32m   3261\u001b[0m R = A.to_matrix(self.new_matrix())\n\u001b[1;32m   3262\u001b[0m if transformation:\n",
      "File \u001b[0;32msrc/fpylll/fplll/lll.pyx:605\u001b[0m, in \u001b[0;36mfpylll.fplll.lll.lll_reduction\u001b[0;34m()\u001b[0m\n",
      "\u001b[0;31mKeyboardInterrupt\u001b[0m: "
     ]
    }
   ],
   "source": [
    "(reduced_matrix, transformation_matrix) = coeff_matrix.LLL(transformation=True)"
   ]
  },
  {
   "cell_type": "code",
   "execution_count": 630,
   "id": "20cfe0a3",
   "metadata": {},
   "outputs": [],
   "source": [
    "# credit to https://doc.sagemath.org/html/en/constructions/polynomials.html#roots-of-multivariate-polynomials\n",
    "reduced_matrix_lite = transformation_matrix * coeff_matrix_lite\n",
    "reduced_polys_lite = [get_poly(v.list(), max_order_monomial) for v in reduced_matrix_lite[:m]]"
   ]
  },
  {
   "cell_type": "code",
   "execution_count": 631,
   "id": "c66ad30d",
   "metadata": {},
   "outputs": [
    {
     "data": {
      "text/plain": [
       "[(41323006830, 7)]"
      ]
     },
     "execution_count": 631,
     "metadata": {},
     "output_type": "execute_result"
    }
   ],
   "source": [
    "reduced_polys_lite[0].roots()"
   ]
  },
  {
   "cell_type": "code",
   "execution_count": 632,
   "id": "ef36a99b",
   "metadata": {},
   "outputs": [
    {
     "data": {
      "text/plain": [
       "5569496470052038351198963392157639997641575860060770720858522608519570329040554144842064525156707230247556419775092940080786461729235129864641191337499415861321828620189804354396250050969619085260728697870581076083500518617288863756155461136323225248370655255019001561965035301564367358011159651942183"
      ]
     },
     "execution_count": 632,
     "metadata": {},
     "output_type": "execute_result"
    }
   ],
   "source": [
    "r_1 = 41323006830\n",
    "gcd(a_lst[0] - r_1, N)"
   ]
  }
 ],
 "metadata": {
  "kernelspec": {
   "display_name": "SageMath 9.6",
   "language": "sage",
   "name": "sagemath"
  },
  "language_info": {
   "codemirror_mode": {
    "name": "ipython",
    "version": 3
   },
   "file_extension": ".py",
   "mimetype": "text/x-python",
   "name": "python",
   "nbconvert_exporter": "python",
   "pygments_lexer": "ipython3",
   "version": "3.11.2"
  }
 },
 "nbformat": 4,
 "nbformat_minor": 5
}
