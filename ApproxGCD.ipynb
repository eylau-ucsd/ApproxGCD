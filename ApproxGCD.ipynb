{
 "cells": [
  {
   "cell_type": "code",
   "execution_count": 581,
   "id": "fe2ced3e",
   "metadata": {},
   "outputs": [],
   "source": [
    "def generate_problem(m, N_bits, p_bits, r_bits):\n",
    "    p = random_prime(2^N_bits - 1, false, 2^(N_bits-1))\n",
    "    q_bits = N_bits - p_bits\n",
    "    q = randint(2^(q_bits - 1), 2^q_bits - 1)\n",
    "    N = p * q # exact multiple of p\n",
    "    a_lst = [] # list of approximate multiples of p \n",
    "    for i in range(m):\n",
    "        q = randint(2^(q_bits - 1), 2^q_bits - 1)\n",
    "        r = randint(2^(r_bits - 1), 2^r_bits - 1)\n",
    "        a = p * q + r\n",
    "        a_lst.append(a)\n",
    "    return (N, a_lst)"
   ]
  },
  {
   "cell_type": "code",
   "execution_count": 582,
   "id": "ff755368",
   "metadata": {
    "scrolled": true
   },
   "outputs": [],
   "source": [
    "m = 1\n",
    "N_bits = 1000\n",
    "p_bits = 200\n",
    "r_bits = 36\n",
    "problem_instance = generate_problem(m, N_bits, p_bits, r_bits)\n",
    "(N, a_lst) = problem_instance"
   ]
  },
  {
   "cell_type": "code",
   "execution_count": 583,
   "id": "9189184d",
   "metadata": {},
   "outputs": [],
   "source": [
    "beta = 1\n",
    "# hardcode these constants for now, ask about them later\n",
    "t = 41\n",
    "k = 8\n",
    "X = 2^r_bits - 1 # the bound on the error"
   ]
  },
  {
   "cell_type": "code",
   "execution_count": 584,
   "id": "911276c3",
   "metadata": {},
   "outputs": [],
   "source": [
    "# iterate over i_1 + ... + i_m <= t\n",
    "# do the \"combo of dividing lines\" approach\n",
    "i_l_lst = []\n",
    "from itertools import combinations\n",
    "for combo in combinations(range(1, t + m + 1), m):\n",
    "    i_combo = []\n",
    "    all_dividing_lines = [0, *list(combo), t + m + 1]\n",
    "    for j in range(1, len(all_dividing_lines) - 1):\n",
    "        i_j = all_dividing_lines[j + 1] - all_dividing_lines[j] - 1\n",
    "        i_combo.append(i_j)\n",
    "    l = max(0, k - sum(i_combo))\n",
    "    i_l_lst.append((i_combo, l))"
   ]
  },
  {
   "cell_type": "code",
   "execution_count": 585,
   "id": "503b94ff",
   "metadata": {},
   "outputs": [
    {
     "data": {
      "text/plain": [
       "42"
      ]
     },
     "execution_count": 585,
     "metadata": {},
     "output_type": "execute_result"
    }
   ],
   "source": [
    "len(i_l_lst)"
   ]
  },
  {
   "cell_type": "code",
   "execution_count": 586,
   "id": "e8212fb0",
   "metadata": {},
   "outputs": [],
   "source": [
    "R = PolynomialRing(QQ, names=[\"x\" + str(i) for i in range(1, m + 1)], order=\"lex\")\n",
    "polys = []\n",
    "polys_lite = []\n",
    "for (i_combo, l) in i_l_lst:\n",
    "    poly = N^l\n",
    "    poly_lite = N^l\n",
    "    for (x_j, a, i) in zip(R.gens(), a_lst, i_combo):\n",
    "        poly *= (X * x_j - a)^i\n",
    "        poly_lite *= (x_j - a)^i\n",
    "    polys.append(poly)\n",
    "    polys_lite.append(poly)"
   ]
  },
  {
   "cell_type": "code",
   "execution_count": 587,
   "id": "72ff0d5a",
   "metadata": {},
   "outputs": [],
   "source": [
    "def get_coeff_vector(poly, max_order_monomial):\n",
    "    # credit to https://stackoverflow.com/questions/42812634/multivariate-polynomial-coefficients-including-zeros\n",
    "    return [poly.monomial_coefficient(m) for m in monomial_all_divisors(max_order_monomial)] + [poly.constant_coefficient()]\n",
    "\n",
    "def get_poly(coeff_vector, max_order_monomial):\n",
    "    poly = 0\n",
    "    all_monomials = monomial_all_divisors(max_order_monomial) + [1]\n",
    "    for (m, coeff) in zip(coeff_vector, all_monomials):\n",
    "        poly += coeff * m\n",
    "    return poly"
   ]
  },
  {
   "cell_type": "code",
   "execution_count": 588,
   "id": "02d2a095",
   "metadata": {},
   "outputs": [],
   "source": [
    "def monomial_all_divisors(monomial):\n",
    "    if len(R.gens()) > 1:\n",
    "        return R.monomial_all_divisors(monomial)\n",
    "    else:\n",
    "        max_i = list(monomial.dict().keys())[0]\n",
    "        return [R.gens()[0]^i for i in range(1, max_i + 1)]"
   ]
  },
  {
   "cell_type": "code",
   "execution_count": 589,
   "id": "fb5aef2a",
   "metadata": {},
   "outputs": [
    {
     "data": {
      "text/plain": [
       "x1^41"
      ]
     },
     "execution_count": 589,
     "metadata": {},
     "output_type": "execute_result"
    }
   ],
   "source": [
    "max_order_monomial = 1\n",
    "for x_j in R.gens():\n",
    "    max_order_monomial *= x_j^t\n",
    "max_order_monomial"
   ]
  },
  {
   "cell_type": "code",
   "execution_count": 590,
   "id": "9b3fd18b",
   "metadata": {},
   "outputs": [
    {
     "data": {
      "text/plain": [
       "[x1,\n",
       " x1^2,\n",
       " x1^3,\n",
       " x1^4,\n",
       " x1^5,\n",
       " x1^6,\n",
       " x1^7,\n",
       " x1^8,\n",
       " x1^9,\n",
       " x1^10,\n",
       " x1^11,\n",
       " x1^12,\n",
       " x1^13,\n",
       " x1^14,\n",
       " x1^15,\n",
       " x1^16,\n",
       " x1^17,\n",
       " x1^18,\n",
       " x1^19,\n",
       " x1^20,\n",
       " x1^21,\n",
       " x1^22,\n",
       " x1^23,\n",
       " x1^24,\n",
       " x1^25,\n",
       " x1^26,\n",
       " x1^27,\n",
       " x1^28,\n",
       " x1^29,\n",
       " x1^30,\n",
       " x1^31,\n",
       " x1^32,\n",
       " x1^33,\n",
       " x1^34,\n",
       " x1^35,\n",
       " x1^36,\n",
       " x1^37,\n",
       " x1^38,\n",
       " x1^39,\n",
       " x1^40,\n",
       " x1^41]"
      ]
     },
     "execution_count": 590,
     "metadata": {},
     "output_type": "execute_result"
    }
   ],
   "source": [
    "monomial_all_divisors(max_order_monomial)"
   ]
  },
  {
   "cell_type": "code",
   "execution_count": 591,
   "id": "342a57f2",
   "metadata": {},
   "outputs": [],
   "source": [
    "coeff_matrix = matrix(ZZ, [get_coeff_vector(poly, max_order_monomial) for poly in polys])\n",
    "coeff_matrix_lite = matrix(ZZ, [get_coeff_vector(poly, max_order_monomial) for poly in polys_lite])"
   ]
  },
  {
   "cell_type": "code",
   "execution_count": 592,
   "id": "7fecdc37",
   "metadata": {},
   "outputs": [
    {
     "data": {
      "text/plain": [
       "42"
      ]
     },
     "execution_count": 592,
     "metadata": {},
     "output_type": "execute_result"
    }
   ],
   "source": [
    "coeff_matrix.nrows()"
   ]
  },
  {
   "cell_type": "code",
   "execution_count": 593,
   "id": "c3a55c15",
   "metadata": {},
   "outputs": [],
   "source": [
    "(reduced_matrix, transformation_matrix) = coeff_matrix.LLL(transformation=True)"
   ]
  },
  {
   "cell_type": "code",
   "execution_count": 594,
   "id": "20cfe0a3",
   "metadata": {},
   "outputs": [],
   "source": [
    "# credit to https://doc.sagemath.org/html/en/constructions/polynomials.html#roots-of-multivariate-polynomials\n",
    "reduced_matrix_lite = transformation_matrix * coeff_matrix_lite\n",
    "reduced_poly_lite_ideal = ideal(get_poly(v.list(), max_order_monomial) for v in reduced_matrix_lite[:m])\n",
    "B = reduced_poly_lite_ideal.groebner_basis()"
   ]
  },
  {
   "cell_type": "code",
   "execution_count": 569,
   "id": "1d3fa97b",
   "metadata": {},
   "outputs": [
    {
     "data": {
      "text/plain": [
       "55 x 100 dense matrix over Integer Ring (use the '.str()' method to see the entries)"
      ]
     },
     "execution_count": 569,
     "metadata": {},
     "output_type": "execute_result"
    }
   ],
   "source": [
    "coeff_matrix_lite"
   ]
  },
  {
   "cell_type": "code",
   "execution_count": 596,
   "id": "f67950d0",
   "metadata": {},
   "outputs": [
    {
     "data": {
      "text/plain": [
       "[(1984082878/2545165805, 7)]"
      ]
     },
     "execution_count": 596,
     "metadata": {},
     "output_type": "execute_result"
    }
   ],
   "source": [
    "B[0].roots()"
   ]
  },
  {
   "cell_type": "code",
   "execution_count": 597,
   "id": "ef36a99b",
   "metadata": {},
   "outputs": [
    {
     "data": {
      "text/plain": [
       "32171658300169978682280600003286395291501897958087274023941243366679195850240928615856403730944857051083231494511566848446019045818665124715323962471096223127419907807103155736874429914861245963045740702318925670850487182457993011840143549071107121522464919920300483049795955487599175050375052333065356"
      ]
     },
     "execution_count": 597,
     "metadata": {},
     "output_type": "execute_result"
    }
   ],
   "source": [
    "r_1 = 1984082878/2545165805 * X\n",
    "gcd(a_lst[0] - r_1, N)"
   ]
  }
 ],
 "metadata": {
  "kernelspec": {
   "display_name": "SageMath 9.6",
   "language": "sage",
   "name": "sagemath"
  },
  "language_info": {
   "codemirror_mode": {
    "name": "ipython",
    "version": 3
   },
   "file_extension": ".py",
   "mimetype": "text/x-python",
   "name": "python",
   "nbconvert_exporter": "python",
   "pygments_lexer": "ipython3",
   "version": "3.11.2"
  }
 },
 "nbformat": 4,
 "nbformat_minor": 5
}
