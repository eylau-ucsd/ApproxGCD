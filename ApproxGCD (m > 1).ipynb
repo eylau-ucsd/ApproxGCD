{
 "cells": [
  {
   "cell_type": "code",
   "execution_count": 127,
   "id": "fe2ced3e",
   "metadata": {},
   "outputs": [],
   "source": [
    "def generate_problem(m, N_bits, p_bits, r_bits):\n",
    "    p = random_prime(2^N_bits - 1, false, 2^(N_bits-1))\n",
    "    q_bits = N_bits - p_bits\n",
    "    q = randint(2^(q_bits - 1), 2^q_bits - 1)\n",
    "    N = p * q # exact multiple of p\n",
    "    a_lst = [] # list of approximate multiples of p \n",
    "    for i in range(m):\n",
    "        q = randint(2^(q_bits - 1), 2^q_bits - 1)\n",
    "        r = randint(2^(r_bits - 1), 2^r_bits - 1)\n",
    "        a = p * q + r\n",
    "        a_lst.append(a)\n",
    "    return (N, a_lst)"
   ]
  },
  {
   "cell_type": "code",
   "execution_count": 128,
   "id": "ff755368",
   "metadata": {
    "scrolled": true
   },
   "outputs": [
    {
     "data": {
      "text/plain": [
       "(34730796327852149367179051992659544977679067371582820787618567123905521776280370297098197450535954760390279108612134287873720887581354701574958093971822476078986941449227213243503964291893764537689489739821543924617431812722817793385720664934427515377269839768688921313975452058405053661025885932552571244900005331664632495346280007719041988518808994070548756478580268589242905962820354005548653292343881044806270252321867292039489902626177987209619224263115468173273462125742924090435444372608040316337065002977830632048897371461412372718808,\n",
       " [31680308141931396293137019991685411893328350229824035614244317273608629930017779539140365416344305821320534661553948015356484470131536615842155126505858377077432150185347083767788270698137240041736206823913013688049769145696427641732295750122951731574360928126418913752226042505163286426765332834953285415526493745956230988700064959570125801467263627752489694803890694417937602586045088558642997348494257208877860826586389792685305687748356178767720443726509329105183823574378875367996112252462832736170178647697977169535628599392766232871470,\n",
       "  43262037521513741058057409106385485585243747244379050532746947751981153346136825240177980273708498317611376123753128383519028223424653758564945800815926905643349460668387033163809077859919683963330064091940511793267288156736031618094286054313949882593044697487230027098234433670836884126832180192585972613995767720817353461570287420040706410405503795341129009006469699722348654362932615206366848567207372273738557441634890334094050778434002881910600163546255593697969589758659868327121758106068189655969270484422177784347930176862759702217503])"
      ]
     },
     "execution_count": 128,
     "metadata": {},
     "output_type": "execute_result"
    }
   ],
   "source": [
    "m = 2\n",
    "N_bits = 1000\n",
    "p_bits = 200\n",
    "r_bits = 72\n",
    "problem_instance = generate_problem(m, N_bits, p_bits, r_bits)\n",
    "(N, a_lst) = problem_instance\n",
    "problem_instance"
   ]
  },
  {
   "cell_type": "code",
   "execution_count": 129,
   "id": "9189184d",
   "metadata": {},
   "outputs": [],
   "source": [
    "beta = 1\n",
    "# hardcode these constants for now, ask about them later\n",
    "t = 9\n",
    "k = 4\n",
    "X = 2^r_bits - 1 # the bound on the error"
   ]
  },
  {
   "cell_type": "code",
   "execution_count": 130,
   "id": "911276c3",
   "metadata": {},
   "outputs": [],
   "source": [
    "# iterate over i_1 + ... + i_m <= t\n",
    "# do the \"combo of dividing lines\" approach\n",
    "i_l_lst = []\n",
    "from itertools import combinations\n",
    "for combo in combinations(range(1, t + m + 1), m):\n",
    "    i_combo = []\n",
    "    all_dividing_lines = [0, *list(combo), t + m + 1]\n",
    "    for j in range(1, len(all_dividing_lines) - 1):\n",
    "        i_j = all_dividing_lines[j + 1] - all_dividing_lines[j] - 1\n",
    "        i_combo.append(i_j)\n",
    "    l = max(0, k - sum(i_combo))\n",
    "    i_l_lst.append((i_combo, l))"
   ]
  },
  {
   "cell_type": "code",
   "execution_count": 131,
   "id": "34147ae4",
   "metadata": {},
   "outputs": [
    {
     "data": {
      "text/plain": [
       "55"
      ]
     },
     "execution_count": 131,
     "metadata": {},
     "output_type": "execute_result"
    }
   ],
   "source": [
    "len(i_l_lst)"
   ]
  },
  {
   "cell_type": "code",
   "execution_count": 132,
   "id": "e8212fb0",
   "metadata": {},
   "outputs": [],
   "source": [
    "R = PolynomialRing(QQ, names=[\"x\" + str(i) for i in range(1, m + 1)], order=\"lex\")\n",
    "polys = []\n",
    "polys_lite = []\n",
    "for (i_combo, l) in i_l_lst:\n",
    "    poly = N^l\n",
    "    poly_lite = N^l\n",
    "    for (x_j, a, i) in zip(R.gens(), a_lst, i_combo):\n",
    "        poly *= (X * x_j - a)^i\n",
    "        poly_lite *= (x_j - a)^i\n",
    "    polys.append(poly)\n",
    "    polys_lite.append(poly_lite)"
   ]
  },
  {
   "cell_type": "code",
   "execution_count": 133,
   "id": "c0d2aec5",
   "metadata": {},
   "outputs": [],
   "source": [
    "# def get_coeff_vector(poly, max_order_monomial):\n",
    "#     # returns a tuple, one is the coefficient ector, the other is encoding information\n",
    "#     # credit to https://stackoverflow.com/questions/42812634/multivariate-polynomial-coefficients-including-zeros\n",
    "#     return [poly.monomial_coefficient(m) for m in monomial_all_divisors(max_order_monomial)] + [poly.constant_coefficient()]\n",
    "\n",
    "# def get_poly(coeff_vector, max_order_monomial):\n",
    "#     poly = 0\n",
    "#     all_monomials = monomial_all_divisors(max_order_monomial) + [1]\n",
    "#     for (m, coeff) in zip(coeff_vector, all_monomials):\n",
    "#         poly += coeff * m\n",
    "#     return poly"
   ]
  },
  {
   "cell_type": "code",
   "execution_count": 134,
   "id": "c12edc2b",
   "metadata": {},
   "outputs": [],
   "source": [
    "def get_encoding(polys): # get a common encoding that can represent all the polynomials:\n",
    "    encoding_set = set()\n",
    "    for poly in polys:\n",
    "        for etuple in list(poly.dict().keys()):\n",
    "            encoding_set.add(etuple)\n",
    "    return list(encoding_set)\n",
    "\n",
    "def get_coeff_vector(poly, encoding):\n",
    "    poly_dict = poly.dict()\n",
    "    coeff_vector = []\n",
    "    for multiplicity in encoding:\n",
    "        coeff_vector.append(poly_dict.get(multiplicity, 0))\n",
    "    return coeff_vector\n",
    "\n",
    "def get_poly(coeff_vector, encoding):\n",
    "    term_list = zip(coeff_vector, encoding)\n",
    "    poly = 0\n",
    "    for (coeff, multiplicities) in term_list:\n",
    "        term = coeff\n",
    "        for (x_i, multiplicity) in zip(R.gens(), multiplicities):\n",
    "            term *= x_i^multiplicity\n",
    "        poly += term\n",
    "    return poly"
   ]
  },
  {
   "cell_type": "code",
   "execution_count": 135,
   "id": "68133895",
   "metadata": {},
   "outputs": [],
   "source": [
    "encoding = get_encoding(polys)"
   ]
  },
  {
   "cell_type": "code",
   "execution_count": 136,
   "id": "342a57f2",
   "metadata": {},
   "outputs": [],
   "source": [
    "coeff_matrix = matrix(ZZ, [get_coeff_vector(poly, encoding) for poly in polys])\n",
    "coeff_matrix_lite = matrix(ZZ, [get_coeff_vector(poly, encoding) for poly in polys_lite])"
   ]
  },
  {
   "cell_type": "code",
   "execution_count": 137,
   "id": "c3a55c15",
   "metadata": {},
   "outputs": [],
   "source": [
    "(reduced_matrix, transformation_matrix) = coeff_matrix.LLL(transformation=True)"
   ]
  },
  {
   "cell_type": "code",
   "execution_count": 138,
   "id": "20cfe0a3",
   "metadata": {},
   "outputs": [],
   "source": [
    "# credit to https://doc.sagemath.org/html/en/constructions/polynomials.html#roots-of-multivariate-polynomials\n",
    "reduced_matrix_lite = transformation_matrix * coeff_matrix_lite\n",
    "# \n"
   ]
  },
  {
   "cell_type": "code",
   "execution_count": 139,
   "id": "b64705cd",
   "metadata": {},
   "outputs": [],
   "source": [
    "p2 = random_prime(4 * X, false, 2*X + 1)\n",
    "reduced_polys_lite = [get_poly(v.list(), encoding).change_ring(GF(p2)) for v in reduced_matrix_lite[:m]]\n",
    "reduced_poly_lite_ideal = ideal(reduced_polys_lite)"
   ]
  },
  {
   "cell_type": "code",
   "execution_count": 140,
   "id": "a058ac02",
   "metadata": {},
   "outputs": [
    {
     "name": "stdout",
     "output_type": "stream",
     "text": [
      "verbose 0 (2285: multi_polynomial_ideal.py, variety) Warning: falling back to very slow toy implementation.\n"
     ]
    }
   ],
   "source": [
    "V = reduced_poly_lite_ideal.variety()"
   ]
  },
  {
   "cell_type": "code",
   "execution_count": 141,
   "id": "c66ad30d",
   "metadata": {},
   "outputs": [
    {
     "data": {
      "text/plain": [
       "[{x1: 8598277161409959247730, x2: 11116256381445215424767},\n",
       " {x1: 2792192386361149877995, x2: 2495134716316922937547}]"
      ]
     },
     "execution_count": 141,
     "metadata": {},
     "output_type": "execute_result"
    }
   ],
   "source": [
    "V"
   ]
  },
  {
   "cell_type": "code",
   "execution_count": 153,
   "id": "ef36a99b",
   "metadata": {},
   "outputs": [
    {
     "data": {
      "text/plain": [
       "8923141884244059290328709710401432591277230765229829072199917360195540189137654420313330412664781934986956223173399685324868449710197416708856329434150025851220805268251952139963273573075315795452790955961102076489181023111983237512535295176770779522664043661882398513116519334847387777195216517776627"
      ]
     },
     "execution_count": 153,
     "metadata": {},
     "output_type": "execute_result"
    }
   ],
   "source": [
    "r_1 = 2792192386361149877995\n",
    "r_2 = 2495134716316922937547\n",
    "gcd(gcd(a_lst[0] - r_1, N), a_lst[1] - r_2)"
   ]
  }
 ],
 "metadata": {
  "kernelspec": {
   "display_name": "SageMath 9.6",
   "language": "sage",
   "name": "sagemath"
  },
  "language_info": {
   "codemirror_mode": {
    "name": "ipython",
    "version": 3
   },
   "file_extension": ".py",
   "mimetype": "text/x-python",
   "name": "python",
   "nbconvert_exporter": "python",
   "pygments_lexer": "ipython3",
   "version": "3.11.2"
  }
 },
 "nbformat": 4,
 "nbformat_minor": 5
}
