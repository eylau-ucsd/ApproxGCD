{
 "cells": [
  {
   "cell_type": "code",
   "execution_count": 2,
   "id": "fe2ced3e",
   "metadata": {},
   "outputs": [],
   "source": [
    "def generate_problem(m, N_bits, p_bits, r_bits):\n",
    "    p = random_prime(2^N_bits - 1, false, 2^(N_bits-1))\n",
    "    q_bits = N_bits - p_bits\n",
    "    q = randint(2^(q_bits - 1), 2^q_bits - 1)\n",
    "    N = p * q # exact multiple of p\n",
    "    a_lst = [] # list of approximate multiples of p \n",
    "    for i in range(m):\n",
    "        q = randint(2^(q_bits - 1), 2^q_bits - 1)\n",
    "        r = randint(2^(r_bits - 1), 2^r_bits - 1)\n",
    "        a = p * q + r\n",
    "        a_lst.append(a)\n",
    "    return (N, a_lst)"
   ]
  },
  {
   "cell_type": "code",
   "execution_count": 3,
   "id": "ff755368",
   "metadata": {
    "scrolled": true
   },
   "outputs": [],
   "source": [
    "m = 2\n",
    "N_bits = 1000\n",
    "p_bits = 200\n",
    "r_bits = 72\n",
    "problem_instance = generate_problem(m, N_bits, p_bits, r_bits)\n",
    "(N, a_lst) = problem_instance"
   ]
  },
  {
   "cell_type": "code",
   "execution_count": 4,
   "id": "9189184d",
   "metadata": {},
   "outputs": [],
   "source": [
    "beta = 1\n",
    "# hardcode these constants for now, ask about them later\n",
    "t = 9\n",
    "k = 4\n",
    "X = 2^r_bits - 1 # the bound on the error"
   ]
  },
  {
   "cell_type": "code",
   "execution_count": 5,
   "id": "911276c3",
   "metadata": {},
   "outputs": [],
   "source": [
    "# iterate over i_1 + ... + i_m <= t\n",
    "# do the \"combo of dividing lines\" approach\n",
    "i_l_lst = []\n",
    "from itertools import combinations\n",
    "for combo in combinations(range(1, t + m + 1), m):\n",
    "    i_combo = []\n",
    "    all_dividing_lines = [0, *list(combo), t + m + 1]\n",
    "    for j in range(1, len(all_dividing_lines) - 1):\n",
    "        i_j = all_dividing_lines[j + 1] - all_dividing_lines[j] - 1\n",
    "        i_combo.append(i_j)\n",
    "    l = max(0, k - sum(i_combo))\n",
    "    i_l_lst.append((i_combo, l))"
   ]
  },
  {
   "cell_type": "code",
   "execution_count": 6,
   "id": "34147ae4",
   "metadata": {},
   "outputs": [
    {
     "data": {
      "text/plain": [
       "55"
      ]
     },
     "execution_count": 6,
     "metadata": {},
     "output_type": "execute_result"
    }
   ],
   "source": [
    "len(i_l_lst)"
   ]
  },
  {
   "cell_type": "code",
   "execution_count": 7,
   "id": "e8212fb0",
   "metadata": {},
   "outputs": [],
   "source": [
    "R = PolynomialRing(QQ, names=[\"x\" + str(i) for i in range(1, m + 1)], order=\"lex\")\n",
    "polys = []\n",
    "polys_lite = []\n",
    "for (i_combo, l) in i_l_lst:\n",
    "    poly = N^l\n",
    "    poly_lite = N^l\n",
    "    for (x_j, a, i) in zip(R.gens(), a_lst, i_combo):\n",
    "        poly *= (X * x_j - a)^i\n",
    "        poly_lite *= (x_j - a)^i\n",
    "    polys.append(poly)\n",
    "    polys_lite.append(poly_lite)"
   ]
  },
  {
   "cell_type": "code",
   "execution_count": 8,
   "id": "c0d2aec5",
   "metadata": {},
   "outputs": [],
   "source": [
    "def get_coeff_vector(poly, max_order_monomial):\n",
    "    # credit to https://stackoverflow.com/questions/42812634/multivariate-polynomial-coefficients-including-zeros\n",
    "    return [poly.monomial_coefficient(m) for m in monomial_all_divisors(max_order_monomial)] + [poly.constant_coefficient()]\n",
    "\n",
    "def get_poly(coeff_vector, max_order_monomial):\n",
    "    poly = 0\n",
    "    all_monomials = monomial_all_divisors(max_order_monomial) + [1]\n",
    "    for (m, coeff) in zip(coeff_vector, all_monomials):\n",
    "        poly += coeff * m\n",
    "    return poly"
   ]
  },
  {
   "cell_type": "code",
   "execution_count": 9,
   "id": "2a7277e6",
   "metadata": {},
   "outputs": [],
   "source": [
    "def monomial_all_divisors(monomial):\n",
    "    if len(R.gens()) > 1:\n",
    "        return R.monomial_all_divisors(monomial)\n",
    "    else:\n",
    "        max_i = list(monomial.dict().keys())[0]\n",
    "        return [R.gens()[0]^i for i in range(1, max_i + 1)]"
   ]
  },
  {
   "cell_type": "code",
   "execution_count": 10,
   "id": "6c973640",
   "metadata": {},
   "outputs": [
    {
     "data": {
      "text/plain": [
       "x1^9*x2^9"
      ]
     },
     "execution_count": 10,
     "metadata": {},
     "output_type": "execute_result"
    }
   ],
   "source": [
    "max_order_monomial = 1\n",
    "for x_j in R.gens():\n",
    "    max_order_monomial *= x_j^t\n",
    "max_order_monomial"
   ]
  },
  {
   "cell_type": "code",
   "execution_count": 11,
   "id": "7c680326",
   "metadata": {},
   "outputs": [
    {
     "data": {
      "text/plain": [
       "[x1,\n",
       " x1^2,\n",
       " x1^3,\n",
       " x1^4,\n",
       " x1^5,\n",
       " x1^6,\n",
       " x1^7,\n",
       " x1^8,\n",
       " x1^9,\n",
       " x2,\n",
       " x1*x2,\n",
       " x1^2*x2,\n",
       " x1^3*x2,\n",
       " x1^4*x2,\n",
       " x1^5*x2,\n",
       " x1^6*x2,\n",
       " x1^7*x2,\n",
       " x1^8*x2,\n",
       " x1^9*x2,\n",
       " x2^2,\n",
       " x1*x2^2,\n",
       " x1^2*x2^2,\n",
       " x1^3*x2^2,\n",
       " x1^4*x2^2,\n",
       " x1^5*x2^2,\n",
       " x1^6*x2^2,\n",
       " x1^7*x2^2,\n",
       " x1^8*x2^2,\n",
       " x1^9*x2^2,\n",
       " x2^3,\n",
       " x1*x2^3,\n",
       " x1^2*x2^3,\n",
       " x1^3*x2^3,\n",
       " x1^4*x2^3,\n",
       " x1^5*x2^3,\n",
       " x1^6*x2^3,\n",
       " x1^7*x2^3,\n",
       " x1^8*x2^3,\n",
       " x1^9*x2^3,\n",
       " x2^4,\n",
       " x1*x2^4,\n",
       " x1^2*x2^4,\n",
       " x1^3*x2^4,\n",
       " x1^4*x2^4,\n",
       " x1^5*x2^4,\n",
       " x1^6*x2^4,\n",
       " x1^7*x2^4,\n",
       " x1^8*x2^4,\n",
       " x1^9*x2^4,\n",
       " x2^5,\n",
       " x1*x2^5,\n",
       " x1^2*x2^5,\n",
       " x1^3*x2^5,\n",
       " x1^4*x2^5,\n",
       " x1^5*x2^5,\n",
       " x1^6*x2^5,\n",
       " x1^7*x2^5,\n",
       " x1^8*x2^5,\n",
       " x1^9*x2^5,\n",
       " x2^6,\n",
       " x1*x2^6,\n",
       " x1^2*x2^6,\n",
       " x1^3*x2^6,\n",
       " x1^4*x2^6,\n",
       " x1^5*x2^6,\n",
       " x1^6*x2^6,\n",
       " x1^7*x2^6,\n",
       " x1^8*x2^6,\n",
       " x1^9*x2^6,\n",
       " x2^7,\n",
       " x1*x2^7,\n",
       " x1^2*x2^7,\n",
       " x1^3*x2^7,\n",
       " x1^4*x2^7,\n",
       " x1^5*x2^7,\n",
       " x1^6*x2^7,\n",
       " x1^7*x2^7,\n",
       " x1^8*x2^7,\n",
       " x1^9*x2^7,\n",
       " x2^8,\n",
       " x1*x2^8,\n",
       " x1^2*x2^8,\n",
       " x1^3*x2^8,\n",
       " x1^4*x2^8,\n",
       " x1^5*x2^8,\n",
       " x1^6*x2^8,\n",
       " x1^7*x2^8,\n",
       " x1^8*x2^8,\n",
       " x1^9*x2^8,\n",
       " x2^9,\n",
       " x1*x2^9,\n",
       " x1^2*x2^9,\n",
       " x1^3*x2^9,\n",
       " x1^4*x2^9,\n",
       " x1^5*x2^9,\n",
       " x1^6*x2^9,\n",
       " x1^7*x2^9,\n",
       " x1^8*x2^9,\n",
       " x1^9*x2^9]"
      ]
     },
     "execution_count": 11,
     "metadata": {},
     "output_type": "execute_result"
    }
   ],
   "source": [
    "monomial_all_divisors(max_order_monomial)"
   ]
  },
  {
   "cell_type": "code",
   "execution_count": 12,
   "id": "342a57f2",
   "metadata": {},
   "outputs": [],
   "source": [
    "coeff_matrix = matrix(ZZ, [get_coeff_vector(poly, max_order_monomial) for poly in polys])\n",
    "coeff_matrix_lite = matrix(ZZ, [get_coeff_vector(poly, max_order_monomial) for poly in polys_lite])"
   ]
  },
  {
   "cell_type": "code",
   "execution_count": 13,
   "id": "684350b0",
   "metadata": {},
   "outputs": [
    {
     "data": {
      "text/plain": [
       "55"
      ]
     },
     "execution_count": 13,
     "metadata": {},
     "output_type": "execute_result"
    }
   ],
   "source": [
    "coeff_matrix.nrows()"
   ]
  },
  {
   "cell_type": "code",
   "execution_count": 14,
   "id": "c3a55c15",
   "metadata": {},
   "outputs": [],
   "source": [
    "(reduced_matrix, transformation_matrix) = coeff_matrix.LLL(transformation=True)"
   ]
  },
  {
   "cell_type": "code",
   "execution_count": 15,
   "id": "20cfe0a3",
   "metadata": {},
   "outputs": [],
   "source": [
    "# credit to https://doc.sagemath.org/html/en/constructions/polynomials.html#roots-of-multivariate-polynomials\n",
    "reduced_matrix_lite = transformation_matrix * coeff_matrix_lite\n",
    "# \n"
   ]
  },
  {
   "cell_type": "code",
   "execution_count": 16,
   "id": "b64705cd",
   "metadata": {},
   "outputs": [],
   "source": [
    "p2 = random_prime(4 * X, false, 2*X + 1)\n",
    "reduced_polys_lite = [get_poly(v.list(), max_order_monomial).change_ring(GF(p2)) for v in reduced_matrix_lite[:m]]\n",
    "reduced_poly_lite_ideal = ideal(reduced_polys_lite)"
   ]
  },
  {
   "cell_type": "code",
   "execution_count": 17,
   "id": "a058ac02",
   "metadata": {},
   "outputs": [
    {
     "name": "stdout",
     "output_type": "stream",
     "text": [
      "verbose 0 (2285: multi_polynomial_ideal.py, variety) Warning: falling back to very slow toy implementation.\n"
     ]
    }
   ],
   "source": [
    "V = reduced_poly_lite_ideal.variety()"
   ]
  },
  {
   "cell_type": "code",
   "execution_count": 18,
   "id": "c66ad30d",
   "metadata": {},
   "outputs": [
    {
     "data": {
      "text/plain": [
       "[{x1: 12600898395541594152714, x2: 2566324641744581157713},\n",
       " {x1: 4184825759400571100460, x2: 4318222387143324725902}]"
      ]
     },
     "execution_count": 18,
     "metadata": {},
     "output_type": "execute_result"
    }
   ],
   "source": [
    "V"
   ]
  },
  {
   "cell_type": "code",
   "execution_count": 22,
   "id": "da7afa8b",
   "metadata": {},
   "outputs": [
    {
     "data": {
      "text/plain": [
       "0"
      ]
     },
     "execution_count": 22,
     "metadata": {},
     "output_type": "execute_result"
    }
   ],
   "source": [
    "reduced_polys_lite[1].subs(x1=4184825759400571100460, x2=4318222387143324725902)"
   ]
  },
  {
   "cell_type": "code",
   "execution_count": 28,
   "id": "ef36a99b",
   "metadata": {},
   "outputs": [
    {
     "data": {
      "text/plain": [
       "12098579486383249074175421077595163433962680560858302724316125648601628805025821848948827660967158883743208481092405477841895398988420014456654221107653510453166170611665511717828434914315222284836815422471955365641012594774922478535230131818972243898695340350438948005981333571922447843679486342253266"
      ]
     },
     "execution_count": 28,
     "metadata": {},
     "output_type": "execute_result"
    }
   ],
   "source": [
    "r_1 = 4184825759400571100460\n",
    "r_2 = 4318222387143324725902\n",
    "gcd(gcd(a_lst[0] - r_1, N), a_lst[1] - r_2)"
   ]
  }
 ],
 "metadata": {
  "kernelspec": {
   "display_name": "SageMath 9.6",
   "language": "sage",
   "name": "sagemath"
  },
  "language_info": {
   "codemirror_mode": {
    "name": "ipython",
    "version": 3
   },
   "file_extension": ".py",
   "mimetype": "text/x-python",
   "name": "python",
   "nbconvert_exporter": "python",
   "pygments_lexer": "ipython3",
   "version": "3.11.2"
  }
 },
 "nbformat": 4,
 "nbformat_minor": 5
}
