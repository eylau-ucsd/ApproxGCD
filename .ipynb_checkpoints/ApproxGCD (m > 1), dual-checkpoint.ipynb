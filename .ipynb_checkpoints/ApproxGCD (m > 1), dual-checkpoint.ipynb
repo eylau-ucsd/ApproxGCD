{
 "cells": [
  {
   "cell_type": "code",
   "execution_count": 1,
   "id": "fe2ced3e",
   "metadata": {},
   "outputs": [],
   "source": [
    "def generate_problem(m, N_bits, p_bits, r_bits):\n",
    "    p = random_prime(2^N_bits - 1, false, 2^(N_bits-1))\n",
    "    print(p)\n",
    "    q_bits = N_bits - p_bits\n",
    "    q = randint(2^(q_bits - 1), 2^q_bits - 1)\n",
    "    N = p * q # exact multiple of p\n",
    "    a_lst = [] # list of approximate multiples of p \n",
    "    for i in range(m):\n",
    "        q = randint(2^(q_bits - 1), 2^q_bits - 1)\n",
    "        r = randint(2^(r_bits - 1), 2^r_bits - 1)\n",
    "        a = p * q + r\n",
    "        a_lst.append(a)\n",
    "    return (N, a_lst)"
   ]
  },
  {
   "cell_type": "code",
   "execution_count": 2,
   "id": "ff755368",
   "metadata": {
    "scrolled": true
   },
   "outputs": [
    {
     "name": "stdout",
     "output_type": "stream",
     "text": [
      "10682949394474995050939933190946645099723267621404053125466040872796509940245918623570398827819754927238662296199376658503114597894373918660188961097792384442741889112493979932411983938948008612686087677506276972271755384706796834587355156459491854060521676920177699423669535918343979455205893275838371\n"
     ]
    },
    {
     "data": {
      "text/plain": [
       "(37754197907410569476106935963605155914625058160734646081936165676341521662587741939575237763058567943154364067500925802311517974335130423868088128552462485309611292576638326858922908865155515309470534839529439245993184083744604813438776541490586963364217662431399507088012661642572164144164528913239460100429642079544547469287916104692332532887830871107418643541471484738289944493196321317411277499328136511307056481992249475832255153539490758801327278211164229206030200340995999529558372876318977463734663753104569448708444481116437099354881,\n",
       " [48732794299800444288934811099744219545977796231385089649591744477040504600169110554607876848986978122647003425996543214076420349219985137920550736889319339534857958783322419436894842741859397943761641425995432622613859502011671193497232940885216506972975213487236475793475783842338214393512419206954127062035908041432317941848945306017530338735835663887675382264408728504855683846349613814302371046460123061424807263924741062866811011542398526829703105188568062969464635735596120838254659678953540224675566660495918616362759807616363585364312])"
      ]
     },
     "execution_count": 2,
     "metadata": {},
     "output_type": "execute_result"
    }
   ],
   "source": [
    "m = 1\n",
    "N_bits = 1000\n",
    "p_bits = 200\n",
    "r_bits = 36\n",
    "problem_instance = generate_problem(m, N_bits, p_bits, r_bits)\n",
    "(N, a_lst) = problem_instance; problem_instance"
   ]
  },
  {
   "cell_type": "code",
   "execution_count": 3,
   "id": "9189184d",
   "metadata": {},
   "outputs": [],
   "source": [
    "beta = 1\n",
    "# hardcode these constants for now, ask about them later\n",
    "t = 41\n",
    "k = 8\n",
    "X = 2^r_bits - 1 # the bound on the error"
   ]
  },
  {
   "cell_type": "code",
   "execution_count": 4,
   "id": "911276c3",
   "metadata": {},
   "outputs": [],
   "source": [
    "# iterate over i_1 + ... + i_m <= t\n",
    "# do the \"combo of dividing lines\" approach\n",
    "i_l_lst = []\n",
    "from itertools import combinations\n",
    "for combo in combinations(range(1, t + m + 1), m):\n",
    "    i_combo = []\n",
    "    all_dividing_lines = [0, *list(combo), t + m + 1]\n",
    "    for j in range(1, len(all_dividing_lines) - 1):\n",
    "        i_j = all_dividing_lines[j + 1] - all_dividing_lines[j] - 1\n",
    "        i_combo.append(i_j)\n",
    "    l = max(0, k - sum(i_combo))\n",
    "    i_l_lst.append((i_combo, l))"
   ]
  },
  {
   "cell_type": "code",
   "execution_count": 5,
   "id": "34147ae4",
   "metadata": {},
   "outputs": [
    {
     "data": {
      "text/plain": [
       "42"
      ]
     },
     "execution_count": 5,
     "metadata": {},
     "output_type": "execute_result"
    }
   ],
   "source": [
    "len(i_l_lst)"
   ]
  },
  {
   "cell_type": "code",
   "execution_count": 6,
   "id": "e8212fb0",
   "metadata": {},
   "outputs": [],
   "source": [
    "R = PolynomialRing(QQ, names=[\"x\" + str(i) for i in range(1, m + 1)], order=\"lex\")\n",
    "polys = []\n",
    "polys_lite = []\n",
    "for (i_combo, l) in i_l_lst:\n",
    "    poly = N^l\n",
    "    poly_lite = N^l\n",
    "    for (x_j, a, i) in zip(R.gens(), a_lst, i_combo):\n",
    "        poly *= (X * x_j - a)^i\n",
    "        poly_lite *= (x_j - a)^i\n",
    "    polys.append(poly)\n",
    "    polys_lite.append(poly_lite)"
   ]
  },
  {
   "cell_type": "code",
   "execution_count": 8,
   "id": "c0d2aec5",
   "metadata": {},
   "outputs": [],
   "source": [
    "# def get_coeff_vector(poly, max_order_monomial):\n",
    "#     # returns a tuple, one is the coefficient ector, the other is encoding information\n",
    "#     # credit to https://stackoverflow.com/questions/42812634/multivariate-polynomial-coefficients-including-zeros\n",
    "#     return [poly.monomial_coefficient(m) for m in monomial_all_divisors(max_order_monomial)] + [poly.constant_coefficient()]\n",
    "\n",
    "# def get_poly(coeff_vector, max_order_monomial):\n",
    "#     poly = 0\n",
    "#     all_monomials = monomial_all_divisors(max_order_monomial) + [1]\n",
    "#     for (m, coeff) in zip(coeff_vector, all_monomials):\n",
    "#         poly += coeff * m\n",
    "#     return poly"
   ]
  },
  {
   "cell_type": "code",
   "execution_count": 10,
   "id": "c12edc2b",
   "metadata": {},
   "outputs": [],
   "source": [
    "def get_encoding(polys): # get a common encoding that can represent all the polynomials:\n",
    "    encoding_set = set()\n",
    "    for poly in polys:\n",
    "        for etuple in list(poly.dict().keys()):\n",
    "            encoding_set.add(etuple)\n",
    "    return list(encoding_set)\n",
    "\n",
    "def get_coeff_vector(poly, encoding):\n",
    "    poly_dict = poly.dict()\n",
    "    coeff_vector = []\n",
    "    for multiplicity in encoding:\n",
    "        coeff_vector.append(poly_dict.get(multiplicity, 0))\n",
    "    return coeff_vector\n",
    "\n",
    "def get_poly(coeff_vector, encoding):\n",
    "    term_list = zip(coeff_vector, encoding)\n",
    "    poly = 0\n",
    "    for (coeff, multiplicities) in term_list:\n",
    "        term = coeff\n",
    "        for (x_i, multiplicity) in zip(R.gens(), multiplicities):\n",
    "            term *= x_i^multiplicity\n",
    "        poly += term\n",
    "    return poly"
   ]
  },
  {
   "cell_type": "code",
   "execution_count": 11,
   "id": "68133895",
   "metadata": {},
   "outputs": [],
   "source": [
    "encoding = get_encoding(polys)"
   ]
  },
  {
   "cell_type": "code",
   "execution_count": 12,
   "id": "342a57f2",
   "metadata": {},
   "outputs": [],
   "source": [
    "coeff_matrix = matrix(ZZ, [get_coeff_vector(poly, encoding) for poly in polys])\n",
    "coeff_matrix_lite = matrix(ZZ, [get_coeff_vector(poly, encoding) for poly in polys_lite])"
   ]
  },
  {
   "cell_type": "code",
   "execution_count": 14,
   "id": "81477692",
   "metadata": {},
   "outputs": [],
   "source": [
    "coeff_matrix_dual = coeff_matrix.transpose().inverse()"
   ]
  },
  {
   "cell_type": "code",
   "execution_count": 37,
   "id": "75ed5b32",
   "metadata": {},
   "outputs": [],
   "source": [
    "reduced_dual = coeff_matrix_dual.LLL()"
   ]
  },
  {
   "cell_type": "code",
   "execution_count": 50,
   "id": "3d4a53ec",
   "metadata": {},
   "outputs": [
    {
     "data": {
      "text/plain": [
       "0"
      ]
     },
     "execution_count": 50,
     "metadata": {},
     "output_type": "execute_result"
    }
   ],
   "source": [
    "reduced_dual[0][3].denominator() % X^3"
   ]
  },
  {
   "cell_type": "code",
   "execution_count": 163,
   "id": "601e2e70",
   "metadata": {},
   "outputs": [],
   "source": [
    "def descale_vec(vec): # hardcoded for m = 1 case - fix for later\n",
    "    descaled_vec = []\n",
    "    for (i, elem) in enumerate(vec):\n",
    "        descaled_vec.append(elem * X^i * N^l)\n",
    "    return descaled_vec"
   ]
  },
  {
   "cell_type": "code",
   "execution_count": 124,
   "id": "f85bbe74",
   "metadata": {},
   "outputs": [],
   "source": [
    "descaled_reduced_dual = matrix(ZZ, [descale_vec(row) for row in reduced_dual])"
   ]
  },
  {
   "cell_type": "code",
   "execution_count": 148,
   "id": "c261572c",
   "metadata": {},
   "outputs": [
    {
     "data": {
      "text/plain": [
       "34540162012"
      ]
     },
     "execution_count": 148,
     "metadata": {},
     "output_type": "execute_result"
    }
   ],
   "source": [
    "descaled_reduced_dual[0][1] / descaled_reduced_dual[0][0]"
   ]
  },
  {
   "cell_type": "code",
   "execution_count": 152,
   "id": "d0ea859d",
   "metadata": {},
   "outputs": [],
   "source": [
    "r1 = descaled_reduced_dual[0][1] / descaled_reduced_dual[0][0]\n",
    "a1 = 48732794299800444288934811099744219545977796231385089649591744477040504600169110554607876848986978122647003425996543214076420349219985137920550736889319339534857958783322419436894842741859397943761641425995432622613859502011671193497232940885216506972975213487236475793475783842338214393512419206954127062035908041432317941848945306017530338735835663887675382264408728504855683846349613814302371046460123061424807263924741062866811011542398526829703105188568062969464635735596120838254659678953540224675566660495918616362759807616363585364312"
   ]
  },
  {
   "cell_type": "code",
   "execution_count": 168,
   "id": "e9c1efc9",
   "metadata": {},
   "outputs": [
    {
     "data": {
      "text/plain": [
       "10682949394474995050939933190946645099723267621404053125466040872796509940245918623570398827819754927238662296199376658503114597894373918660188961097792384442741889112493979932411983938948008612686087677506276972271755384706796834587355156459491854060521676920177699423669535918343979455205893275838371"
      ]
     },
     "execution_count": 168,
     "metadata": {},
     "output_type": "execute_result"
    }
   ],
   "source": [
    "gcd(a1 - r1, N)"
   ]
  }
 ],
 "metadata": {
  "kernelspec": {
   "display_name": "SageMath 9.6",
   "language": "sage",
   "name": "sagemath"
  },
  "language_info": {
   "codemirror_mode": {
    "name": "ipython",
    "version": 3
   },
   "file_extension": ".py",
   "mimetype": "text/x-python",
   "name": "python",
   "nbconvert_exporter": "python",
   "pygments_lexer": "ipython3",
   "version": "3.11.2"
  }
 },
 "nbformat": 4,
 "nbformat_minor": 5
}
